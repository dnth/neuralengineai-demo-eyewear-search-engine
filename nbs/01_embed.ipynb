{
 "cells": [
  {
   "cell_type": "code",
   "execution_count": 1,
   "id": "27ffb9d6",
   "metadata": {},
   "outputs": [],
   "source": [
    "from datasets import load_dataset\n",
    "\n",
    "dataset = load_dataset(\"dnth/Eyewear-Dataset-1024-with-captions\")"
   ]
  },
  {
   "cell_type": "code",
   "execution_count": 2,
   "id": "c110caab",
   "metadata": {},
   "outputs": [
    {
     "data": {
      "text/plain": [
       "DatasetDict({\n",
       "    train: Dataset({\n",
       "        features: ['brand', 'prompt', 'product_type', 'image', 'control_image', 'caption'],\n",
       "        num_rows: 20964\n",
       "    })\n",
       "})"
      ]
     },
     "execution_count": 2,
     "metadata": {},
     "output_type": "execute_result"
    }
   ],
   "source": [
    "dataset"
   ]
  },
  {
   "cell_type": "code",
   "execution_count": 3,
   "id": "2324102f",
   "metadata": {},
   "outputs": [
    {
     "data": {
      "text/plain": [
       "{'brand': 'Polaroid',\n",
       " 'prompt': 'shape is round / oval, technology is r, frame material is polycarbonate,.',\n",
       " 'product_type': 'sunglasses',\n",
       " 'image': <PIL.JpegImagePlugin.JpegImageFile image mode=RGB size=1024x1024>,\n",
       " 'control_image': <PIL.JpegImagePlugin.JpegImageFile image mode=RGB size=1024x1024>,\n",
       " 'caption': 'A close-up view of a pair of Polaroid sunglasses. The frame is a dark brown color with a tortoiseshell pattern and a slightly curved shape. The clear lenses reflect a blue tint. The right arm of the sunglasses is slightly extended, showcasing the sleek design. The brand name \"Polaroid\" is prominently displayed on the right arm of the frame. Two small white dots are visible on the left arm, possibly indicating fasteners. The sunglasses are set against a stark white background, which highlights their features and design.'}"
      ]
     },
     "execution_count": 3,
     "metadata": {},
     "output_type": "execute_result"
    }
   ],
   "source": [
    "dataset['train'][0]"
   ]
  },
  {
   "cell_type": "code",
   "execution_count": 4,
   "id": "cd576a6a",
   "metadata": {},
   "outputs": [],
   "source": [
    "from sentence_transformers import SentenceTransformer\n",
    "\n",
    "model = SentenceTransformer('all-MiniLM-L6-v2')\n",
    "\n",
    "def embed_captions(batch):\n",
    "    \"\"\"\n",
    "    Function to embed captions in batches for efficiency\n",
    "    \"\"\"\n",
    "    captions = batch['caption']\n",
    "    # Generate embeddings\n",
    "    embeddings = model.encode(captions, convert_to_tensor=False)\n",
    "    # Convert to list for compatibility with datasets\n",
    "    batch['caption_embeddings'] = embeddings.tolist()\n",
    "    return batch"
   ]
  },
  {
   "cell_type": "code",
   "execution_count": 5,
   "id": "63e3c4a8",
   "metadata": {},
   "outputs": [
    {
     "data": {
      "application/vnd.jupyter.widget-view+json": {
       "model_id": "d4c5174ba2b1499c9be65926cb538b97",
       "version_major": 2,
       "version_minor": 0
      },
      "text/plain": [
       "Embedding captions:   0%|          | 0/20964 [00:00<?, ? examples/s]"
      ]
     },
     "metadata": {},
     "output_type": "display_data"
    },
    {
     "name": "stderr",
     "output_type": "stream",
     "text": [
      "/home/dnth/Desktop/neuralengineai-demo-eyewear-search-engine/.venv/lib/python3.12/site-packages/torch/nn/modules/module.py:1762: FutureWarning: `encoder_attention_mask` is deprecated and will be removed in version 4.55.0 for `BertSdpaSelfAttention.forward`.\n",
      "  return forward_call(*args, **kwargs)\n"
     ]
    }
   ],
   "source": [
    "embedded_dataset = dataset.map(\n",
    "    embed_captions,\n",
    "    batched=True,\n",
    "    batch_size=32,  # Adjust based on your GPU memory\n",
    "    desc=\"Embedding captions\"\n",
    ")\n"
   ]
  },
  {
   "cell_type": "code",
   "execution_count": 7,
   "id": "6a91abcf",
   "metadata": {},
   "outputs": [
    {
     "data": {
      "application/vnd.jupyter.widget-view+json": {
       "model_id": "726a55a38e384ed4863ab82140385a05",
       "version_major": 2,
       "version_minor": 0
      },
      "text/plain": [
       "Uploading the dataset shards:   0%|          | 0/5 [00:00<?, ? shards/s]"
      ]
     },
     "metadata": {},
     "output_type": "display_data"
    },
    {
     "data": {
      "application/vnd.jupyter.widget-view+json": {
       "model_id": "9e27822ccfce4b7998e3ac7b5561edbe",
       "version_major": 2,
       "version_minor": 0
      },
      "text/plain": [
       "Map:   0%|          | 0/4193 [00:00<?, ? examples/s]"
      ]
     },
     "metadata": {},
     "output_type": "display_data"
    },
    {
     "data": {
      "application/vnd.jupyter.widget-view+json": {
       "model_id": "95ad8462c84c468298bdd64999882cfc",
       "version_major": 2,
       "version_minor": 0
      },
      "text/plain": [
       "Creating parquet from Arrow format:   0%|          | 0/42 [00:00<?, ?ba/s]"
      ]
     },
     "metadata": {},
     "output_type": "display_data"
    },
    {
     "data": {
      "application/vnd.jupyter.widget-view+json": {
       "model_id": "8e730d7b27bf4131aecf0cc00331a1d7",
       "version_major": 2,
       "version_minor": 0
      },
      "text/plain": [
       "Map:   0%|          | 0/4193 [00:00<?, ? examples/s]"
      ]
     },
     "metadata": {},
     "output_type": "display_data"
    },
    {
     "data": {
      "application/vnd.jupyter.widget-view+json": {
       "model_id": "ad7fafb39ea045aeb5ec557d563f12cb",
       "version_major": 2,
       "version_minor": 0
      },
      "text/plain": [
       "Creating parquet from Arrow format:   0%|          | 0/42 [00:00<?, ?ba/s]"
      ]
     },
     "metadata": {},
     "output_type": "display_data"
    },
    {
     "data": {
      "application/vnd.jupyter.widget-view+json": {
       "model_id": "640a93305a9746268726bb3abba5318f",
       "version_major": 2,
       "version_minor": 0
      },
      "text/plain": [
       "Map:   0%|          | 0/4193 [00:00<?, ? examples/s]"
      ]
     },
     "metadata": {},
     "output_type": "display_data"
    },
    {
     "data": {
      "application/vnd.jupyter.widget-view+json": {
       "model_id": "fc850f57718a48c7baba7476ced69c43",
       "version_major": 2,
       "version_minor": 0
      },
      "text/plain": [
       "Creating parquet from Arrow format:   0%|          | 0/42 [00:00<?, ?ba/s]"
      ]
     },
     "metadata": {},
     "output_type": "display_data"
    },
    {
     "data": {
      "application/vnd.jupyter.widget-view+json": {
       "model_id": "ee090e2aae76441399c242ec809191e8",
       "version_major": 2,
       "version_minor": 0
      },
      "text/plain": [
       "Map:   0%|          | 0/4193 [00:00<?, ? examples/s]"
      ]
     },
     "metadata": {},
     "output_type": "display_data"
    },
    {
     "data": {
      "application/vnd.jupyter.widget-view+json": {
       "model_id": "65d3e102f62f4c83a8863de3258369ba",
       "version_major": 2,
       "version_minor": 0
      },
      "text/plain": [
       "Creating parquet from Arrow format:   0%|          | 0/42 [00:00<?, ?ba/s]"
      ]
     },
     "metadata": {},
     "output_type": "display_data"
    },
    {
     "data": {
      "application/vnd.jupyter.widget-view+json": {
       "model_id": "8967797eb26741598f3137bd4962e1f8",
       "version_major": 2,
       "version_minor": 0
      },
      "text/plain": [
       "Map:   0%|          | 0/4192 [00:00<?, ? examples/s]"
      ]
     },
     "metadata": {},
     "output_type": "display_data"
    },
    {
     "data": {
      "application/vnd.jupyter.widget-view+json": {
       "model_id": "9d3446a5cc9f40e19cb7aeb8993ffe68",
       "version_major": 2,
       "version_minor": 0
      },
      "text/plain": [
       "Creating parquet from Arrow format:   0%|          | 0/42 [00:00<?, ?ba/s]"
      ]
     },
     "metadata": {},
     "output_type": "display_data"
    },
    {
     "data": {
      "text/plain": [
       "CommitInfo(commit_url='https://huggingface.co/datasets/dnth/eyewear-dataset-1024-embedded/commit/e9d1173fab6d6bdbb29f3da588790603b063d50a', commit_message='Upload dataset', commit_description='', oid='e9d1173fab6d6bdbb29f3da588790603b063d50a', pr_url=None, repo_url=RepoUrl('https://huggingface.co/datasets/dnth/eyewear-dataset-1024-embedded', endpoint='https://huggingface.co', repo_type='dataset', repo_id='dnth/eyewear-dataset-1024-embedded'), pr_revision=None, pr_num=None)"
      ]
     },
     "execution_count": 7,
     "metadata": {},
     "output_type": "execute_result"
    }
   ],
   "source": [
    "embedded_dataset['train'].push_to_hub(\"dnth/eyewear-dataset-1024-embedded\")"
   ]
  },
  {
   "cell_type": "code",
   "execution_count": 10,
   "id": "ed22cc51",
   "metadata": {},
   "outputs": [
    {
     "data": {
      "text/plain": [
       "{'brand': 'Polaroid',\n",
       " 'prompt': 'shape is round / oval, technology is r, frame material is polycarbonate,.',\n",
       " 'product_type': 'sunglasses',\n",
       " 'image': <PIL.JpegImagePlugin.JpegImageFile image mode=RGB size=1024x1024>,\n",
       " 'control_image': <PIL.JpegImagePlugin.JpegImageFile image mode=RGB size=1024x1024>,\n",
       " 'caption': 'A close-up view of a pair of Polaroid sunglasses. The frame is a dark brown color with a tortoiseshell pattern and a slightly curved shape. The clear lenses reflect a blue tint. The right arm of the sunglasses is slightly extended, showcasing the sleek design. The brand name \"Polaroid\" is prominently displayed on the right arm of the frame. Two small white dots are visible on the left arm, possibly indicating fasteners. The sunglasses are set against a stark white background, which highlights their features and design.',\n",
       " 'caption_embeddings': [-0.03259830176830292,\n",
       "  0.0042353603057563305,\n",
       "  -0.014557523652911186,\n",
       "  -0.041319455951452255,\n",
       "  0.0383530855178833,\n",
       "  -0.017793025821447372,\n",
       "  0.11620698124170303,\n",
       "  -0.014767310582101345,\n",
       "  6.185044185258448e-05,\n",
       "  -0.011363247409462929,\n",
       "  0.023534493520855904,\n",
       "  0.040971141308546066,\n",
       "  0.0009642794029787183,\n",
       "  0.026272136718034744,\n",
       "  0.031013870611786842,\n",
       "  0.06903000175952911,\n",
       "  0.01203880738466978,\n",
       "  -0.02555258385837078,\n",
       "  0.02616811729967594,\n",
       "  0.02462773025035858,\n",
       "  -0.023939410224556923,\n",
       "  -0.018473030999302864,\n",
       "  -0.02200418710708618,\n",
       "  0.0008052531629800797,\n",
       "  -0.033189479261636734,\n",
       "  0.1498045176267624,\n",
       "  0.03903353214263916,\n",
       "  -0.020156756043434143,\n",
       "  -0.003405020572245121,\n",
       "  0.041173044592142105,\n",
       "  -0.0015363332349807024,\n",
       "  0.0570240244269371,\n",
       "  -0.022337963804602623,\n",
       "  0.06303779780864716,\n",
       "  -0.03277523070573807,\n",
       "  -0.0720783919095993,\n",
       "  0.027157209813594818,\n",
       "  -0.010907826013863087,\n",
       "  -0.035971857607364655,\n",
       "  0.04916832968592644,\n",
       "  0.008464089594781399,\n",
       "  -0.009079835377633572,\n",
       "  -0.008397414349019527,\n",
       "  -0.025181680917739868,\n",
       "  -0.07975484430789948,\n",
       "  0.036910198628902435,\n",
       "  -0.03372633829712868,\n",
       "  0.06093882396817207,\n",
       "  0.014181338250637054,\n",
       "  -0.11136429011821747,\n",
       "  -0.12953884899616241,\n",
       "  -0.11353296041488647,\n",
       "  -0.042176224291324615,\n",
       "  -0.03669287636876106,\n",
       "  0.006905123591423035,\n",
       "  0.10882223397493362,\n",
       "  -0.0931115448474884,\n",
       "  -0.086178719997406,\n",
       "  0.053050488233566284,\n",
       "  -0.013925084844231606,\n",
       "  0.06016680225729942,\n",
       "  0.006328234449028969,\n",
       "  -0.030134642496705055,\n",
       "  0.03734108433127403,\n",
       "  -0.009712676517665386,\n",
       "  0.03921516612172127,\n",
       "  -0.04795628786087036,\n",
       "  -0.0636676698923111,\n",
       "  0.053037647157907486,\n",
       "  -0.04093402251601219,\n",
       "  0.0018126500071957707,\n",
       "  0.033954862505197525,\n",
       "  0.03286796435713768,\n",
       "  0.009930714033544064,\n",
       "  -0.10247613489627838,\n",
       "  0.02037871442735195,\n",
       "  0.10995445400476456,\n",
       "  -0.045419808477163315,\n",
       "  -0.08350970596075058,\n",
       "  -0.014735911972820759,\n",
       "  -0.027061333879828453,\n",
       "  -0.023008419200778008,\n",
       "  0.003996272571384907,\n",
       "  0.09551670402288437,\n",
       "  0.04184437170624733,\n",
       "  0.03622615337371826,\n",
       "  0.053029872477054596,\n",
       "  -0.003687773598358035,\n",
       "  -0.05392736941576004,\n",
       "  0.01905212551355362,\n",
       "  -0.06178775802254677,\n",
       "  0.030431099236011505,\n",
       "  -0.04301166161894798,\n",
       "  -0.06889405101537704,\n",
       "  -0.03815821558237076,\n",
       "  -0.009516860358417034,\n",
       "  0.04340965673327446,\n",
       "  0.026255637407302856,\n",
       "  -0.016303775832057,\n",
       "  0.052809566259384155,\n",
       "  0.08982329815626144,\n",
       "  -0.07250384986400604,\n",
       "  0.05213962122797966,\n",
       "  0.002596294041723013,\n",
       "  -0.03444812446832657,\n",
       "  -0.04191148281097412,\n",
       "  0.021922865882515907,\n",
       "  -0.0063388170674443245,\n",
       "  0.04031143710017204,\n",
       "  0.01658535934984684,\n",
       "  -0.015832550823688507,\n",
       "  -0.005591137334704399,\n",
       "  -0.1081017330288887,\n",
       "  -0.008601291105151176,\n",
       "  -0.08577097207307816,\n",
       "  0.004176792223006487,\n",
       "  -0.002957083284854889,\n",
       "  0.07862699031829834,\n",
       "  0.07444819062948227,\n",
       "  0.04893404245376587,\n",
       "  0.035490408539772034,\n",
       "  0.05305519327521324,\n",
       "  0.01198606938123703,\n",
       "  0.02104521542787552,\n",
       "  -0.007525470107793808,\n",
       "  0.01666327752172947,\n",
       "  -0.07430519908666611,\n",
       "  -1.2854366844157652e-33,\n",
       "  0.07388078421354294,\n",
       "  0.0997786894440651,\n",
       "  0.027919307351112366,\n",
       "  -0.056124091148376465,\n",
       "  -0.05295100063085556,\n",
       "  0.03567962348461151,\n",
       "  -0.058870673179626465,\n",
       "  0.0100490627810359,\n",
       "  -0.04642768204212189,\n",
       "  0.02316940762102604,\n",
       "  -0.03561760112643242,\n",
       "  0.08615431934595108,\n",
       "  -0.018675995990633965,\n",
       "  0.033267781138420105,\n",
       "  0.038134388625621796,\n",
       "  -0.1289583146572113,\n",
       "  0.008160768076777458,\n",
       "  0.08169510215520859,\n",
       "  -0.03026742860674858,\n",
       "  0.010394691489636898,\n",
       "  -0.08723847568035126,\n",
       "  0.031137283891439438,\n",
       "  -0.012628884054720402,\n",
       "  0.01232441607862711,\n",
       "  -0.02080436423420906,\n",
       "  -0.006105821579694748,\n",
       "  0.06283566355705261,\n",
       "  0.012092453427612782,\n",
       "  0.0018916906556114554,\n",
       "  0.040294285863637924,\n",
       "  0.024497291073203087,\n",
       "  0.08432653546333313,\n",
       "  -0.002833226229995489,\n",
       "  0.08822739869356155,\n",
       "  -0.010009266436100006,\n",
       "  0.0003946696233469993,\n",
       "  -0.06026400253176689,\n",
       "  -0.021919788792729378,\n",
       "  0.04625438153743744,\n",
       "  0.02672797068953514,\n",
       "  -0.053698696196079254,\n",
       "  0.047065190970897675,\n",
       "  -0.021236993372440338,\n",
       "  0.07160808145999908,\n",
       "  -0.054390497505664825,\n",
       "  -0.03914020583033562,\n",
       "  0.021136853843927383,\n",
       "  -0.004879664164036512,\n",
       "  -0.0013651549816131592,\n",
       "  -0.01906386949121952,\n",
       "  -0.06451248377561569,\n",
       "  -0.02752145752310753,\n",
       "  -0.03895958140492439,\n",
       "  -0.08673250675201416,\n",
       "  -0.06619451195001602,\n",
       "  -0.0036495255772024393,\n",
       "  0.01843523420393467,\n",
       "  0.03527309000492096,\n",
       "  -0.038501325994729996,\n",
       "  -0.1028614491224289,\n",
       "  -0.03763186186552048,\n",
       "  0.0024103878531605005,\n",
       "  -0.023833366110920906,\n",
       "  -0.06029736250638962,\n",
       "  0.04644249379634857,\n",
       "  0.042053624987602234,\n",
       "  -0.0031645905692130327,\n",
       "  -0.023272650316357613,\n",
       "  -0.039110396057367325,\n",
       "  -0.037273991852998734,\n",
       "  0.029998742043972015,\n",
       "  -0.0556161031126976,\n",
       "  0.07670672237873077,\n",
       "  0.032487355172634125,\n",
       "  0.038360774517059326,\n",
       "  0.010171365924179554,\n",
       "  0.060627881437540054,\n",
       "  -0.032428350299596786,\n",
       "  0.0018975712591782212,\n",
       "  0.0408409982919693,\n",
       "  -0.10874219983816147,\n",
       "  -0.0038848603144288063,\n",
       "  0.057635847479104996,\n",
       "  -0.06681881099939346,\n",
       "  -0.08521692454814911,\n",
       "  0.022692913189530373,\n",
       "  0.0009777178056538105,\n",
       "  0.020794445648789406,\n",
       "  -0.02616601064801216,\n",
       "  -0.005535435862839222,\n",
       "  -0.025004008784890175,\n",
       "  -0.0054775141179561615,\n",
       "  -0.0377364344894886,\n",
       "  -0.021981626749038696,\n",
       "  -0.030468013137578964,\n",
       "  -6.883692622527912e-34,\n",
       "  -0.05110928416252136,\n",
       "  -0.055011749267578125,\n",
       "  -0.06146926432847977,\n",
       "  -0.05343128740787506,\n",
       "  0.0012550720712170005,\n",
       "  -0.03289254754781723,\n",
       "  0.003984685987234116,\n",
       "  0.03544394299387932,\n",
       "  0.011567484587430954,\n",
       "  0.024296268820762634,\n",
       "  0.07412268966436386,\n",
       "  -0.016187317669391632,\n",
       "  -0.04835730418562889,\n",
       "  -0.05191270634531975,\n",
       "  -0.04787319526076317,\n",
       "  -0.002773246495053172,\n",
       "  0.09859813749790192,\n",
       "  0.02991546131670475,\n",
       "  0.023563819006085396,\n",
       "  -0.05382275581359863,\n",
       "  0.007914630696177483,\n",
       "  -0.009700780734419823,\n",
       "  0.022435549646615982,\n",
       "  0.04849769175052643,\n",
       "  -0.02844877541065216,\n",
       "  0.08731736242771149,\n",
       "  0.11868017166852951,\n",
       "  -0.08636489510536194,\n",
       "  -0.04377400502562523,\n",
       "  0.012963712215423584,\n",
       "  0.016630085185170174,\n",
       "  -0.022017642855644226,\n",
       "  -0.004480883479118347,\n",
       "  0.0647868812084198,\n",
       "  0.08047087490558624,\n",
       "  0.07366828620433807,\n",
       "  -0.10424385219812393,\n",
       "  -0.1096489354968071,\n",
       "  0.051911789923906326,\n",
       "  -0.033759184181690216,\n",
       "  -0.07509745657444,\n",
       "  0.02821553312242031,\n",
       "  0.08800724148750305,\n",
       "  0.022520622238516808,\n",
       "  0.036857496947050095,\n",
       "  -0.1419384479522705,\n",
       "  0.0053099715150892735,\n",
       "  0.08720838278532028,\n",
       "  -0.04432152956724167,\n",
       "  -0.06349120289087296,\n",
       "  -0.05937154218554497,\n",
       "  0.03686269000172615,\n",
       "  0.03273085132241249,\n",
       "  -0.02190702222287655,\n",
       "  -0.09514026343822479,\n",
       "  -0.08432725071907043,\n",
       "  -0.05183451250195503,\n",
       "  0.05082501843571663,\n",
       "  0.10033420473337173,\n",
       "  -0.0011375251924619079,\n",
       "  0.07067937403917313,\n",
       "  -0.021689340472221375,\n",
       "  -0.0787857174873352,\n",
       "  0.02302217297255993,\n",
       "  -0.042321834713220596,\n",
       "  -0.04334648698568344,\n",
       "  0.015934225171804428,\n",
       "  -0.0472610704600811,\n",
       "  0.044076308608055115,\n",
       "  0.024638215079903603,\n",
       "  0.07898349314928055,\n",
       "  -0.052765533328056335,\n",
       "  -0.08665260672569275,\n",
       "  0.01265101321041584,\n",
       "  0.03092135116457939,\n",
       "  -0.03920700401067734,\n",
       "  0.06583144515752792,\n",
       "  0.0448128841817379,\n",
       "  -0.025641564279794693,\n",
       "  0.07296083122491837,\n",
       "  0.03924044966697693,\n",
       "  0.056279152631759644,\n",
       "  0.011513383127748966,\n",
       "  0.050813909620046616,\n",
       "  0.024982010945677757,\n",
       "  0.016019312664866447,\n",
       "  -0.014404737390577793,\n",
       "  0.024489954113960266,\n",
       "  0.0008350198622792959,\n",
       "  -0.0017967676976695657,\n",
       "  0.02421526238322258,\n",
       "  0.08156292885541916,\n",
       "  -0.09192857146263123,\n",
       "  0.1066596731543541,\n",
       "  -0.007868842221796513,\n",
       "  -3.920717972505372e-08,\n",
       "  0.15453070402145386,\n",
       "  -0.03238186985254288,\n",
       "  0.034484416246414185,\n",
       "  0.054565589874982834,\n",
       "  -0.011850659735500813,\n",
       "  -0.025601256638765335,\n",
       "  -0.0411323681473732,\n",
       "  -0.03091292455792427,\n",
       "  0.036390483379364014,\n",
       "  -0.06633332371711731,\n",
       "  -0.038841363042593,\n",
       "  -0.0010329893557354808,\n",
       "  -0.039642903953790665,\n",
       "  0.015151992440223694,\n",
       "  0.00328815751709044,\n",
       "  0.05774010345339775,\n",
       "  -0.05423474311828613,\n",
       "  -0.0033592411782592535,\n",
       "  0.03836655244231224,\n",
       "  0.05595112219452858,\n",
       "  0.019868532195687294,\n",
       "  -0.06659678369760513,\n",
       "  0.05829818174242973,\n",
       "  0.04554976150393486,\n",
       "  -0.032972387969493866,\n",
       "  0.05511476472020149,\n",
       "  -0.007363843731582165,\n",
       "  -0.013186394236981869,\n",
       "  -0.03765995055437088,\n",
       "  0.10586409270763397,\n",
       "  0.07693782448768616,\n",
       "  0.04123683646321297,\n",
       "  -0.040028005838394165,\n",
       "  -0.04139487072825432,\n",
       "  0.03431675210595131,\n",
       "  0.029582859948277473,\n",
       "  -0.02366088703274727,\n",
       "  0.03598649054765701,\n",
       "  -0.009075835347175598,\n",
       "  0.05896874517202377,\n",
       "  -0.029625235125422478,\n",
       "  -0.0465957336127758,\n",
       "  -0.02156848832964897,\n",
       "  0.09321080893278122,\n",
       "  -0.014356150291860104,\n",
       "  -0.015060489997267723,\n",
       "  0.05879385024309158,\n",
       "  -0.06064249575138092,\n",
       "  -0.06793008744716644,\n",
       "  0.009817348793148994,\n",
       "  0.00842401385307312,\n",
       "  -0.0031808586791157722,\n",
       "  -0.023130809888243675,\n",
       "  0.00042540777940303087,\n",
       "  -0.14921072125434875,\n",
       "  -0.043700311332941055,\n",
       "  0.05572178587317467,\n",
       "  -0.02923039346933365,\n",
       "  -0.031285014003515244,\n",
       "  -0.04659348726272583,\n",
       "  -0.0340624675154686,\n",
       "  0.05274321138858795,\n",
       "  -0.0524679571390152,\n",
       "  0.05408097431063652]}"
      ]
     },
     "execution_count": 10,
     "metadata": {},
     "output_type": "execute_result"
    }
   ],
   "source": [
    "embedded_dataset['train'][0]"
   ]
  },
  {
   "cell_type": "code",
   "execution_count": null,
   "id": "4cd7b8fb",
   "metadata": {},
   "outputs": [],
   "source": []
  }
 ],
 "metadata": {
  "kernelspec": {
   "display_name": ".venv",
   "language": "python",
   "name": "python3"
  },
  "language_info": {
   "codemirror_mode": {
    "name": "ipython",
    "version": 3
   },
   "file_extension": ".py",
   "mimetype": "text/x-python",
   "name": "python",
   "nbconvert_exporter": "python",
   "pygments_lexer": "ipython3",
   "version": "3.12.8"
  }
 },
 "nbformat": 4,
 "nbformat_minor": 5
}
